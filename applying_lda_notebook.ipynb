{
 "cells": [
  {
   "cell_type": "markdown",
   "metadata": {},
   "source": [
    "# Attempting LDA"
   ]
  },
  {
   "cell_type": "markdown",
   "metadata": {},
   "source": [
    "## 1. Loading Data"
   ]
  },
  {
   "cell_type": "code",
   "execution_count": 1,
   "metadata": {},
   "outputs": [
    {
     "data": {
      "text/html": [
       "<div>\n",
       "<style scoped>\n",
       "    .dataframe tbody tr th:only-of-type {\n",
       "        vertical-align: middle;\n",
       "    }\n",
       "\n",
       "    .dataframe tbody tr th {\n",
       "        vertical-align: top;\n",
       "    }\n",
       "\n",
       "    .dataframe thead th {\n",
       "        text-align: right;\n",
       "    }\n",
       "</style>\n",
       "<table border=\"1\" class=\"dataframe\">\n",
       "  <thead>\n",
       "    <tr style=\"text-align: right;\">\n",
       "      <th></th>\n",
       "      <th>Time</th>\n",
       "      <th>User</th>\n",
       "      <th>Message</th>\n",
       "    </tr>\n",
       "  </thead>\n",
       "  <tbody>\n",
       "    <tr>\n",
       "      <th>0</th>\n",
       "      <td>0.0</td>\n",
       "      <td>622f66f8f56f57aef635fd9c59c27c44919720fe</td>\n",
       "      <td>rescwah</td>\n",
       "    </tr>\n",
       "    <tr>\n",
       "      <th>1</th>\n",
       "      <td>2.0</td>\n",
       "      <td>538b2ebeaddc8ed6682a0018be0b222a706dfcbf</td>\n",
       "      <td>roovv any pandas in here</td>\n",
       "    </tr>\n",
       "    <tr>\n",
       "      <th>2</th>\n",
       "      <td>2.0</td>\n",
       "      <td>0d1de91c68952ebf3f1ba486db302ea295fe7f2a</td>\n",
       "      <td>wowee</td>\n",
       "    </tr>\n",
       "    <tr>\n",
       "      <th>3</th>\n",
       "      <td>3.0</td>\n",
       "      <td>2668905d4559fd79169c380cddb17fc271dca77d</td>\n",
       "      <td>rooblank</td>\n",
       "    </tr>\n",
       "    <tr>\n",
       "      <th>4</th>\n",
       "      <td>6.0</td>\n",
       "      <td>3ad3649d0e5c5446bb05ad5a015dcd3febe4872c</td>\n",
       "      <td>i love how everything is melting as the sun is...</td>\n",
       "    </tr>\n",
       "  </tbody>\n",
       "</table>\n",
       "</div>"
      ],
      "text/plain": [
       "   Time                                      User  \\\n",
       "0   0.0  622f66f8f56f57aef635fd9c59c27c44919720fe   \n",
       "1   2.0  538b2ebeaddc8ed6682a0018be0b222a706dfcbf   \n",
       "2   2.0  0d1de91c68952ebf3f1ba486db302ea295fe7f2a   \n",
       "3   3.0  2668905d4559fd79169c380cddb17fc271dca77d   \n",
       "4   6.0  3ad3649d0e5c5446bb05ad5a015dcd3febe4872c   \n",
       "\n",
       "                                             Message  \n",
       "0                                           rescwah   \n",
       "1                          roovv any pandas in here   \n",
       "2                                             wowee   \n",
       "3                                          rooblank   \n",
       "4  i love how everything is melting as the sun is...  "
      ]
     },
     "execution_count": 1,
     "metadata": {},
     "output_type": "execute_result"
    }
   ],
   "source": [
    "# Importing modules\n",
    "import pandas as pd\n",
    "import os\n",
    "\n",
    "os.chdir('..')\n",
    "\n",
    "# Reading data\n",
    "chat = pd.read_csv('path to chosen .csv') # Since my directory will be different to yours, you need to specify the path yourself\n",
    "\n",
    "# Printing data\n",
    "chat.head()"
   ]
  },
  {
   "cell_type": "markdown",
   "metadata": {},
   "source": [
    "## 2. Data Cleaning"
   ]
  },
  {
   "cell_type": "markdown",
   "metadata": {},
   "source": [
    "### 2.1 Removing time column, unecessary for my research"
   ]
  },
  {
   "cell_type": "code",
   "execution_count": 2,
   "metadata": {},
   "outputs": [
    {
     "data": {
      "text/html": [
       "<div>\n",
       "<style scoped>\n",
       "    .dataframe tbody tr th:only-of-type {\n",
       "        vertical-align: middle;\n",
       "    }\n",
       "\n",
       "    .dataframe tbody tr th {\n",
       "        vertical-align: top;\n",
       "    }\n",
       "\n",
       "    .dataframe thead th {\n",
       "        text-align: right;\n",
       "    }\n",
       "</style>\n",
       "<table border=\"1\" class=\"dataframe\">\n",
       "  <thead>\n",
       "    <tr style=\"text-align: right;\">\n",
       "      <th></th>\n",
       "      <th>User</th>\n",
       "      <th>Message</th>\n",
       "    </tr>\n",
       "  </thead>\n",
       "  <tbody>\n",
       "    <tr>\n",
       "      <th>0</th>\n",
       "      <td>622f66f8f56f57aef635fd9c59c27c44919720fe</td>\n",
       "      <td>rescwah</td>\n",
       "    </tr>\n",
       "    <tr>\n",
       "      <th>1</th>\n",
       "      <td>538b2ebeaddc8ed6682a0018be0b222a706dfcbf</td>\n",
       "      <td>roovv any pandas in here</td>\n",
       "    </tr>\n",
       "    <tr>\n",
       "      <th>2</th>\n",
       "      <td>0d1de91c68952ebf3f1ba486db302ea295fe7f2a</td>\n",
       "      <td>wowee</td>\n",
       "    </tr>\n",
       "    <tr>\n",
       "      <th>3</th>\n",
       "      <td>2668905d4559fd79169c380cddb17fc271dca77d</td>\n",
       "      <td>rooblank</td>\n",
       "    </tr>\n",
       "    <tr>\n",
       "      <th>4</th>\n",
       "      <td>3ad3649d0e5c5446bb05ad5a015dcd3febe4872c</td>\n",
       "      <td>i love how everything is melting as the sun is...</td>\n",
       "    </tr>\n",
       "  </tbody>\n",
       "</table>\n",
       "</div>"
      ],
      "text/plain": [
       "                                       User  \\\n",
       "0  622f66f8f56f57aef635fd9c59c27c44919720fe   \n",
       "1  538b2ebeaddc8ed6682a0018be0b222a706dfcbf   \n",
       "2  0d1de91c68952ebf3f1ba486db302ea295fe7f2a   \n",
       "3  2668905d4559fd79169c380cddb17fc271dca77d   \n",
       "4  3ad3649d0e5c5446bb05ad5a015dcd3febe4872c   \n",
       "\n",
       "                                             Message  \n",
       "0                                           rescwah   \n",
       "1                          roovv any pandas in here   \n",
       "2                                             wowee   \n",
       "3                                          rooblank   \n",
       "4  i love how everything is melting as the sun is...  "
      ]
     },
     "execution_count": 2,
     "metadata": {},
     "output_type": "execute_result"
    }
   ],
   "source": [
    "# Remove time column\n",
    "chat = chat.drop(columns = ['Time'])\n",
    "\n",
    "chat.head()"
   ]
  },
  {
   "cell_type": "markdown",
   "metadata": {},
   "source": [
    "### 2.2 Simple preprocessing"
   ]
  },
  {
   "cell_type": "markdown",
   "metadata": {},
   "source": [
    "Removing punctuation and making everything lowercase makes the content of chat more amenable for analysis, creating more reliable results"
   ]
  },
  {
   "cell_type": "code",
   "execution_count": 3,
   "metadata": {},
   "outputs": [
    {
     "data": {
      "text/plain": [
       "0                                             rescwah \n",
       "1                            roovv any pandas in here \n",
       "2                                               wowee \n",
       "3                                            rooblank \n",
       "4    i love how everything is melting as the sun is...\n",
       "Name: message_processed, dtype: object"
      ]
     },
     "execution_count": 3,
     "metadata": {},
     "output_type": "execute_result"
    }
   ],
   "source": [
    "# Load regular expression library\n",
    "import re\n",
    "\n",
    "# Remove punctuation\n",
    "chat['message_processed'] = \\\n",
    "chat['Message'].map(lambda x: re.sub('[,\\.!?]', '', x))\n",
    "\n",
    "# Convert the titles to lowercase\n",
    "chat['message_processed'] = \\\n",
    "chat['message_processed'].map(lambda x: x.lower())\n",
    "\n",
    "# Print out first row of papers\n",
    "chat['message_processed'].head()"
   ]
  },
  {
   "cell_type": "markdown",
   "metadata": {},
   "source": [
    "## 3. Exploratory Analysis"
   ]
  },
  {
   "cell_type": "code",
   "execution_count": 4,
   "metadata": {},
   "outputs": [
    {
     "data": {
      "image/png": "[encoded data removed]",
      "text/plain": [
       "<PIL.Image.Image image mode=RGB size=400x200 at 0x22248EF5400>"
      ]
     },
     "execution_count": 4,
     "metadata": {},
     "output_type": "execute_result"
    }
   ],
   "source": [
    "# Import wordlcoud library\n",
    "from wordcloud import WordCloud\n",
    "\n",
    "# Join different processed titles together\n",
    "long_string = ','.join(list(chat['message_processed'].values))\n",
    "\n",
    "# Create a WordCloud object\n",
    "wordcloud = WordCloud(background_color='white', max_words=1000, contour_width=3, contour_color='steelblue')\n",
    "\n",
    "# Generate wordclouod\n",
    "wordcloud.generate(long_string)\n",
    "\n",
    "# Visualise wordcloud\n",
    "wordcloud.to_image()"
   ]
  },
  {
   "cell_type": "markdown",
   "metadata": {},
   "source": [
    "## 4. Prepare data for LDA Analysis"
   ]
  },
  {
   "cell_type": "markdown",
   "metadata": {},
   "source": [
    "### 4.1 Removing stop words and tokenizing the text"
   ]
  },
  {
   "cell_type": "code",
   "execution_count": 5,
   "metadata": {},
   "outputs": [
    {
     "name": "stdout",
     "output_type": "stream",
     "text": [
      "[['rescwah'], ['roovv', 'pandas'], ['wowee'], ['rooblank'], ['love', 'everything', 'melting', 'sun', 'coming'], ['bawklurk'], ['really', 'nice'], ['roovv'], ['golden', 'roopat'], ['max', 'ammo', 'rooderp']]\n"
     ]
    },
    {
     "name": "stderr",
     "output_type": "stream",
     "text": [
      "[nltk_data] Downloading package stopwords to\n",
      "[nltk_data]     C:\\Users\\mylea\\AppData\\Roaming\\nltk_data...\n",
      "[nltk_data]   Package stopwords is already up-to-date!\n"
     ]
    }
   ],
   "source": [
    "import gensim\n",
    "from gensim.utils import simple_preprocess\n",
    "import nltk\n",
    "nltk.download('stopwords')\n",
    "from nltk.corpus import stopwords\n",
    "\n",
    "stop_words = stopwords.words('english')\n",
    "# stop_words.extend(['any', 'words', 'you', 'want']), to customise your own stop words\n",
    "\n",
    "def sent_to_words(sentences):\n",
    "    for sentence in sentences:\n",
    "        # deacc=True removes punctuations\n",
    "        yield(gensim.utils.simple_preprocess(str(sentence), deacc=True))\n",
    "    \n",
    "def remove_stopwords(texts):\n",
    "    return [[word for word in simple_preprocess(str(doc))\n",
    "            if word not in stop_words] for doc in texts]\n",
    "\n",
    "\n",
    "data = chat.message_processed.values.tolist()\n",
    "data_words = list(sent_to_words(data))\n",
    "\n",
    "# Remove stop words\n",
    "data_words = remove_stopwords(data_words)\n",
    "\n",
    "# Printing tokens\n",
    "print(data_words[:10])\n",
    "    "
   ]
  },
  {
   "cell_type": "markdown",
   "metadata": {},
   "source": [
    "### 4.2 Convert tokenized object into a corpus and dictionary"
   ]
  },
  {
   "cell_type": "code",
   "execution_count": 6,
   "metadata": {},
   "outputs": [
    {
     "name": "stdout",
     "output_type": "stream",
     "text": [
      "[[(0, 1)], [(1, 1), (2, 1)], [(3, 1)], [(4, 1)], [(5, 1), (6, 1), (7, 1), (8, 1), (9, 1)], [(10, 1)], [(11, 1), (12, 1)], [(2, 1)], [(13, 1), (14, 1)], [(15, 1), (16, 1), (17, 1)]]\n"
     ]
    }
   ],
   "source": [
    "import gensim.corpora as corpora\n",
    "\n",
    "# Create dictionary\n",
    "id2word = corpora.Dictionary(data_words)\n",
    "\n",
    "# Create corpus\n",
    "texts = data_words\n",
    "\n",
    "# Term Document Frequency\n",
    "corpus = [id2word.doc2bow(text) for text in texts]\n",
    "\n",
    "# View\n",
    "print(corpus[:10])"
   ]
  },
  {
   "cell_type": "markdown",
   "metadata": {},
   "source": [
    "## 5. LDA Model Training"
   ]
  },
  {
   "cell_type": "markdown",
   "metadata": {},
   "source": [
    "Keeping all parameters default except for number of topics; play around with these parameters to see if anything changes"
   ]
  },
  {
   "cell_type": "markdown",
   "metadata": {},
   "source": [
    " Also think about: weighting, training data etc."
   ]
  },
  {
   "cell_type": "code",
   "execution_count": 7,
   "metadata": {},
   "outputs": [
    {
     "name": "stdout",
     "output_type": "stream",
     "text": [
      "[(0,\n",
      "  '0.061*\"rooowo\" + 0.027*\"company\" + 0.026*\"lul\" + 0.025*\"small\" + '\n",
      "  '0.022*\"indie\" + 0.020*\"roo\" + 0.014*\"roosip\" + 0.014*\"bai\" + 0.014*\"bahroo\" '\n",
      "  '+ 0.013*\"rooaww\"'),\n",
      " (1,\n",
      "  '0.055*\"bye\" + 0.053*\"roocry\" + 0.045*\"clap\" + 0.040*\"rooowo\" + '\n",
      "  '0.038*\"roocomfy\" + 0.017*\"bai\" + 0.016*\"roohug\" + 0.016*\"lulw\" + '\n",
      "  '0.015*\"rooh\" + 0.014*\"rooblank\"'),\n",
      " (2,\n",
      "  '0.067*\"roosip\" + 0.044*\"rookek\" + 0.022*\"crab\" + 0.020*\"roonap\" + '\n",
      "  '0.018*\"roovv\" + 0.018*\"roohappy\" + 0.016*\"roolove\" + 0.016*\"omegalul\" + '\n",
      "  '0.012*\"roocomfy\" + 0.012*\"rood\"')]\n"
     ]
    }
   ],
   "source": [
    "from pprint import pprint\n",
    "\n",
    "# Number of topics\n",
    "num_topics = 3\n",
    "\n",
    "# Build LDA model\n",
    "lda_model = gensim.models.LdaMulticore(corpus=corpus,\n",
    "                                      id2word=id2word,\n",
    "                                      num_topics=num_topics)\n",
    "\n",
    "# Print the keyword in the 'n' topics\n",
    "pprint(lda_model.print_topics())\n",
    "doc_lda = lda_model[corpus]"
   ]
  },
  {
   "cell_type": "markdown",
   "metadata": {},
   "source": [
    "## 6. Analysing our LDA Model"
   ]
  },
  {
   "cell_type": "code",
   "execution_count": 8,
   "metadata": {},
   "outputs": [
    {
     "data": {
      "text/html": [
       "\n",
       "<link rel=\"stylesheet\" type=\"text/css\" href=\"https://cdn.jsdelivr.net/gh/bmabey/pyLDAvis@3.3.1/pyLDAvis/js/ldavis.v1.0.0.css\">\n",
       "\n",
       "\n",
       "<div id=\"ldavis_el1470823463648924326695285849\"></div>\n",
       "<script type=\"text/javascript\">\n",
       "\n",
       "var ldavis_el1470823463648924326695285849_data = {\"mdsDat\": {\"x\": [0.09799280650811204, -0.12025963353024813, 0.022266827022136015], \"y\": [-0.06626622194644613, -0.035208020631968054, 0.10147424257841428], \"topics\": [1, 2, 3], \"cluster\": [1, 1, 1], \"Freq\": [36.06467579337222, 33.020680089548506, 30.914644117079277]}, \"tinfo\": {\"Term\": [\"bye\", \"roosip\", \"roocry\", \"rooowo\", \"clap\", \"rookek\", \"company\", \"roocomfy\", \"crab\", \"small\", \"lul\", \"indie\", \"roo\", \"roonap\", \"roovv\", \"bai\", \"lulw\", \"rooh\", \"rooaww\", \"roohug\", \"omegaroll\", \"rooslam\", \"omegalul\", \"fireduck\", \"roobooli\", \"rood\", \"roolove\", \"hyperclap\", \"night\", \"roohappy\", \"omegaroll\", \"bye\", \"roocry\", \"dont\", \"roow\", \"resc\", \"roobooli\", \"rooh\", \"lulw\", \"roospy\", \"roohug\", \"end\", \"clap\", \"poggywoggy\", \"point\", \"roothink\", \"gg\", \"rooayaya\", \"moon\", \"lmao\", \"use\", \"speed\", \"roocomfy\", \"every\", \"come\", \"sorry\", \"triple\", \"sky\", \"rooslain\", \"ammo\", \"roosmug\", \"go\", \"crashes\", \"rooblank\", \"cutscene\", \"bai\", \"rooowo\", \"cfee\", \"fba\", \"ecbfe\", \"ae\", \"ee\", \"rooxd\", \"rescex\", \"roolove\", \"omegalul\", \"bahroo\", \"indie\", \"crash\", \"roohappy\", \"rooslam\", \"doodone\", \"crab\", \"wait\", \"gn\", \"apparently\", \"spam\", \"roonap\", \"syndifire\", \"activision\", \"hyperclap\", \"roobonk\", \"box\", \"bigredpls\", \"campfire\", \"roovv\", \"gone\", \"gonna\", \"roosip\", \"fireduck\", \"nice\", \"dash\", \"eight\", \"whats\", \"rookek\", \"rd\", \"roobobble\", \"fe\", \"last\", \"maddening\", \"story\", \"pepehands\", \"vvsellout\", \"rood\", \"omegalul\", \"roodab\", \"roolove\", \"resubscribing\", \"roohappy\", \"months\", \"time\", \"sam\", \"rooree\", \"action\", \"thank\", \"game\", \"roocomfy\", \"rooduck\", \"ae\", \"ee\", \"fba\", \"ecbfe\", \"cfee\", \"lul\", \"rooowo\", \"map\", \"rooaww\", \"roosmush\", \"roowut\", \"rero\", \"wow\", \"company\", \"subscribing\", \"mehdibaby\", \"blame\", \"thing\", \"roo\", \"well\", \"resccoffee\", \"yeah\", \"renayyikes\", \"burn\", \"oof\", \"night\", \"small\", \"bankruptcy\", \"didnt\", \"zombie\", \"hell\", \"start\", \"rescmini\", \"pls\", \"scavenger\", \"coming\", \"talking\", \"lul\", \"indie\", \"rooblind\", \"indy\", \"pphop\", \"rooowo\", \"good\", \"pog\", \"dis\", \"bahroo\", \"roopog\", \"crash\", \"bai\", \"rooderp\", \"ee\", \"like\", \"rooshrug\", \"roohappy\", \"roosip\", \"game\", \"thank\", \"ae\", \"agane\", \"ecbfe\", \"rookek\", \"cfee\", \"action\", \"clap\", \"fba\", \"rooblank\", \"rooxd\"], \"Freq\": [76.0, 98.0, 74.0, 123.0, 70.0, 66.0, 34.0, 65.0, 29.0, 36.0, 38.0, 33.0, 27.0, 28.0, 27.0, 39.0, 23.0, 21.0, 16.0, 24.0, 14.0, 9.0, 30.0, 14.0, 11.0, 21.0, 30.0, 13.0, 10.0, 38.0, 12.964571389377712, 70.19877083056451, 67.06087416066642, 6.285175815921313, 7.64050249337396, 5.5295285959078555, 10.285587309797771, 18.974374919704832, 20.026458327960363, 5.297252564070192, 20.121686120744577, 3.841673635781664, 57.1146028930884, 3.1201566440728974, 2.4710851261248714, 2.46967273113981, 2.466703625108392, 6.686603350705218, 7.284073627984674, 2.4040931943179196, 1.7661649273437923, 1.7568542376837737, 48.64921951859174, 1.7482899489092623, 2.89445345826484, 1.7361060171308387, 1.7306374639286561, 1.7263354779408, 11.446592336402453, 1.7243805972464392, 7.43576392789767, 6.835470346910309, 7.012213082757422, 17.441415532589378, 3.288614359816122, 22.15496893058035, 50.79739872089005, 13.413791172019796, 13.337272448026436, 13.206746522087206, 13.45088233191371, 13.756894210369138, 6.389329505077499, 4.06023860141267, 9.426314915472584, 8.932922230723792, 8.382049246479838, 8.195600623849137, 7.076535538995955, 6.729673446246721, 8.977861878002443, 3.5377267885728854, 25.461423273754797, 3.523623018997479, 3.4397896748467622, 3.418700292224676, 3.4160004332063623, 23.85383576741308, 2.7099298734805393, 2.6629692006807444, 10.617761688990358, 3.3030540629135086, 2.6389668552488788, 3.294888894525562, 2.6216627185165815, 21.605129722976546, 5.241176980673227, 2.6092371072785663, 78.2889789898772, 11.672682611019102, 2.593411633252569, 1.9244921678389317, 1.919758569252639, 1.9106227307851749, 51.5742789825155, 1.9028932956924218, 7.606770046483881, 1.8904622411902563, 1.8889062841330286, 1.888363454615687, 5.038191128609233, 7.53511927182689, 3.6374291528627976, 13.720583375010062, 18.60104449402337, 5.161225228187751, 18.66694718173814, 9.325173701693416, 21.285919294785465, 9.25123457878784, 11.172806979736803, 5.11322162597685, 10.111170158400004, 9.683654014767002, 9.298687866993193, 8.405163537291696, 14.448852926754913, 6.882018476359061, 8.334286250470395, 7.988842555035643, 7.290699837380834, 6.97859994514867, 6.857211344322644, 6.6415704474367185, 6.571762217694444, 5.505744747058417, 14.131020154221549, 4.027720550933242, 5.3503153309792575, 3.316685895551703, 4.639131105163848, 29.060841212708045, 3.2882106916397067, 3.282354002674603, 3.221702554728003, 2.544735050007565, 22.051808625661018, 2.5317201290173728, 2.529850880801232, 2.5047780857537574, 2.5015512374155335, 2.4955141466324053, 3.7180598110748546, 7.871392007538011, 27.61092224388502, 1.8009047200552397, 1.794035946314439, 1.7807635450458377, 1.7780082130413064, 1.7771221292529162, 1.7725444331205442, 1.770602183321262, 1.7681847225182852, 1.7680024096640528, 1.7681800086289725, 28.136439874325603, 24.53102494590291, 2.9032961487678426, 4.013380899643742, 2.3296430835181803, 66.40458422971906, 3.8906284190856533, 9.976547706154353, 3.864017876902899, 15.678234817679817, 7.719810653967054, 10.365446122507592, 15.864259668642417, 4.41564637725908, 9.948201178680353, 5.6077385331071286, 3.526478431234204, 10.816740125853162, 15.867588438911728, 6.610553509171583, 6.729638583844323, 7.579587990006119, 4.714148194492375, 6.7490985381468205, 8.989876144754815, 6.653517170392465, 5.796425075300072, 8.639715196749925, 6.322227577538043, 5.1793285513389336, 4.7948372392859095], \"Total\": [76.0, 98.0, 74.0, 123.0, 70.0, 66.0, 34.0, 65.0, 29.0, 36.0, 38.0, 33.0, 27.0, 28.0, 27.0, 39.0, 23.0, 21.0, 16.0, 24.0, 14.0, 9.0, 30.0, 14.0, 11.0, 21.0, 30.0, 13.0, 10.0, 38.0, 14.006529522632308, 76.27627273263549, 74.73516066853146, 7.010613275305075, 8.570322576627548, 6.233942025177298, 11.67793547407851, 21.837378384761536, 23.405426564422882, 6.245775396974104, 24.165382645534002, 4.683073695355146, 70.20590714811891, 3.9102434605315195, 3.130460477621081, 3.130968704149142, 3.1297481996728265, 8.591087604701176, 9.366382553220129, 3.13117632804217, 2.3509850369987584, 2.3517263477318235, 65.40372845718827, 2.35225122767825, 3.9084152150927265, 2.3525153727118515, 2.353358419601238, 2.352320243351693, 15.617064760739645, 2.3534867062648446, 10.201976231957211, 9.462743737494765, 10.192615709245858, 27.545395798615566, 4.691433125776628, 39.03788152850683, 123.77374516830355, 26.924519686734904, 26.950199862945315, 26.9344450053827, 29.364756572390224, 31.693937944085135, 11.728077668189382, 6.298591678401222, 30.798650826680156, 30.01501126962793, 28.406929983426878, 33.7055251842563, 19.665574390295234, 38.83233286688535, 9.935338330364953, 4.127409401746154, 29.731670796701945, 4.126356476138216, 4.120999630860607, 4.120204509432963, 4.120042980534488, 28.82071735130055, 3.294063401475374, 3.29104594456552, 13.161742848597333, 4.112266120069351, 3.289621454303169, 4.112153736711429, 3.288261235256371, 27.111916421642114, 6.580202411025873, 3.287025670329273, 98.6826386574033, 14.791630837560767, 3.2864740050476406, 2.4637308497650166, 2.4634057859732055, 2.4628620396724474, 66.50656558361804, 2.4622710848725635, 9.845277990807796, 2.4615944002636048, 2.4613841136269703, 2.461451634074496, 6.567953344012229, 10.630451943910767, 4.9123877591898255, 21.128558582843485, 30.01501126962793, 7.355574509854213, 30.798650826680156, 14.640943914997955, 38.83233286688535, 14.636447458221957, 18.65097792146392, 7.3495301218638565, 17.006603420483618, 18.577837465273436, 19.33841402991615, 18.49945682773446, 65.40372845718827, 16.042163346287882, 29.364756572390224, 31.693937944085135, 26.950199862945315, 26.9344450053827, 26.924519686734904, 38.01727542542147, 123.77374516830355, 6.3005806965496, 16.541279615386056, 4.72660711732022, 6.299243678800311, 3.938781646976221, 5.515250406664395, 34.587048314638025, 3.9392038797129487, 3.939930986237051, 3.941949367673181, 3.1547542532691697, 27.48085540768089, 3.1550198174250097, 3.154435810222801, 3.154895984691552, 3.154787214990624, 3.1560607891840053, 4.730119986825837, 10.207709442804344, 36.14329800490761, 2.368270158388059, 2.369084509836136, 2.3689613325625567, 2.3690328390599413, 2.3690588510620136, 2.369254525066529, 2.3690695950675296, 2.369177060523323, 2.3691170878472407, 2.3695039404048317, 38.01727542542147, 33.7055251842563, 3.9483681283922367, 5.558527056075354, 3.160577244987624, 123.77374516830355, 5.555154058111594, 15.840328071015291, 5.564661546147951, 28.406929983426878, 12.624213919777588, 19.665574390295234, 39.03788152850683, 7.961171623286965, 31.693937944085135, 12.067172127440033, 5.522087236091831, 38.83233286688535, 98.6826386574033, 18.49945682773446, 19.33841402991615, 29.364756572390224, 9.570929965995077, 26.9344450053827, 66.50656558361804, 26.924519686734904, 18.577837465273436, 70.20590714811891, 26.950199862945315, 27.545395798615566, 11.728077668189382], \"Category\": [\"Default\", \"Default\", \"Default\", \"Default\", \"Default\", \"Default\", \"Default\", \"Default\", \"Default\", \"Default\", \"Default\", \"Default\", \"Default\", \"Default\", \"Default\", \"Default\", \"Default\", \"Default\", \"Default\", \"Default\", \"Default\", \"Default\", \"Default\", \"Default\", \"Default\", \"Default\", \"Default\", \"Default\", \"Default\", \"Default\", \"Topic1\", \"Topic1\", \"Topic1\", \"Topic1\", \"Topic1\", \"Topic1\", \"Topic1\", \"Topic1\", \"Topic1\", \"Topic1\", \"Topic1\", \"Topic1\", \"Topic1\", \"Topic1\", \"Topic1\", \"Topic1\", \"Topic1\", \"Topic1\", \"Topic1\", \"Topic1\", \"Topic1\", \"Topic1\", \"Topic1\", \"Topic1\", \"Topic1\", \"Topic1\", \"Topic1\", \"Topic1\", \"Topic1\", \"Topic1\", \"Topic1\", \"Topic1\", \"Topic1\", \"Topic1\", \"Topic1\", \"Topic1\", \"Topic1\", \"Topic1\", \"Topic1\", \"Topic1\", \"Topic1\", \"Topic1\", \"Topic1\", \"Topic1\", \"Topic1\", \"Topic1\", \"Topic1\", \"Topic1\", \"Topic1\", \"Topic1\", \"Topic2\", \"Topic2\", \"Topic2\", \"Topic2\", \"Topic2\", \"Topic2\", \"Topic2\", \"Topic2\", \"Topic2\", \"Topic2\", \"Topic2\", \"Topic2\", \"Topic2\", \"Topic2\", \"Topic2\", \"Topic2\", \"Topic2\", \"Topic2\", \"Topic2\", \"Topic2\", \"Topic2\", \"Topic2\", \"Topic2\", \"Topic2\", \"Topic2\", \"Topic2\", \"Topic2\", \"Topic2\", \"Topic2\", \"Topic2\", \"Topic2\", \"Topic2\", \"Topic2\", \"Topic2\", \"Topic2\", \"Topic2\", \"Topic2\", \"Topic2\", \"Topic2\", \"Topic2\", \"Topic2\", \"Topic2\", \"Topic2\", \"Topic2\", \"Topic2\", \"Topic2\", \"Topic2\", \"Topic2\", \"Topic2\", \"Topic2\", \"Topic2\", \"Topic2\", \"Topic2\", \"Topic2\", \"Topic2\", \"Topic3\", \"Topic3\", \"Topic3\", \"Topic3\", \"Topic3\", \"Topic3\", \"Topic3\", \"Topic3\", \"Topic3\", \"Topic3\", \"Topic3\", \"Topic3\", \"Topic3\", \"Topic3\", \"Topic3\", \"Topic3\", \"Topic3\", \"Topic3\", \"Topic3\", \"Topic3\", \"Topic3\", \"Topic3\", \"Topic3\", \"Topic3\", \"Topic3\", \"Topic3\", \"Topic3\", \"Topic3\", \"Topic3\", \"Topic3\", \"Topic3\", \"Topic3\", \"Topic3\", \"Topic3\", \"Topic3\", \"Topic3\", \"Topic3\", \"Topic3\", \"Topic3\", \"Topic3\", \"Topic3\", \"Topic3\", \"Topic3\", \"Topic3\", \"Topic3\", \"Topic3\", \"Topic3\", \"Topic3\", \"Topic3\", \"Topic3\", \"Topic3\", \"Topic3\", \"Topic3\", \"Topic3\", \"Topic3\", \"Topic3\", \"Topic3\", \"Topic3\", \"Topic3\", \"Topic3\", \"Topic3\"], \"logprob\": [30.0, 29.0, 28.0, 27.0, 26.0, 25.0, 24.0, 23.0, 22.0, 21.0, 20.0, 19.0, 18.0, 17.0, 16.0, 15.0, 14.0, 13.0, 12.0, 11.0, 10.0, 9.0, 8.0, 7.0, 6.0, 5.0, 4.0, 3.0, 2.0, 1.0, -4.5898, -2.9007, -2.9464, -5.3138, -5.1186, -5.4419, -4.8213, -4.2089, -4.155, -5.4848, -4.1502, -5.8061, -3.107, -6.0141, -6.2474, -6.2479, -6.2491, -5.2519, -5.1663, -6.2749, -6.5832, -6.5885, -3.2674, -6.5934, -6.0892, -6.6004, -6.6035, -6.606, -4.7143, -6.6072, -5.1457, -5.2299, -5.2044, -4.2932, -5.9616, -4.054, -3.2242, -4.5557, -4.5615, -4.5713, -4.553, -4.5305, -5.2974, -5.7508, -4.9085, -4.9623, -5.0259, -5.0484, -5.1952, -5.2455, -4.8691, -5.8004, -3.8267, -5.8044, -5.8284, -5.8346, -5.8354, -3.8919, -6.0669, -6.0844, -4.7013, -5.869, -6.0935, -5.8715, -6.1, -3.9909, -5.4073, -6.1048, -2.7034, -4.6066, -6.1109, -6.4092, -6.4116, -6.4164, -3.1208, -6.4205, -5.0348, -6.427, -6.4278, -6.4281, -5.4468, -5.0443, -5.7726, -4.4449, -4.1406, -5.4227, -4.1371, -4.8311, -4.0058, -4.8391, -4.6504, -5.432, -4.7502, -4.7934, -4.834, -4.935, -4.3932, -5.1349, -4.9435, -4.9858, -5.0772, -5.121, -5.1385, -5.1705, -5.1811, -5.2921, -4.3496, -5.6047, -5.3208, -5.799, -5.4634, -3.6286, -5.8076, -5.8094, -5.828, -6.0639, -3.9045, -6.069, -6.0698, -6.0797, -6.081, -6.0834, -5.6847, -4.9347, -3.6797, -6.4097, -6.4135, -6.4209, -6.4224, -6.4229, -6.4255, -6.4266, -6.428, -6.4281, -6.428, -3.6609, -3.798, -5.9321, -5.6083, -6.1522, -2.8022, -5.6394, -4.6977, -5.6462, -4.2457, -4.9542, -4.6595, -4.2339, -5.5128, -4.7006, -5.2738, -5.7376, -4.6168, -4.2337, -5.1093, -5.0914, -4.9725, -5.4474, -5.0885, -4.8018, -5.1028, -5.2407, -4.8416, -5.1539, -5.3533, -5.4304], \"loglift\": [30.0, 29.0, 28.0, 27.0, 26.0, 25.0, 24.0, 23.0, 22.0, 21.0, 20.0, 19.0, 18.0, 17.0, 16.0, 15.0, 14.0, 13.0, 12.0, 11.0, 10.0, 9.0, 8.0, 7.0, 6.0, 5.0, 4.0, 3.0, 2.0, 1.0, 0.9426, 0.9368, 0.9115, 0.9106, 0.905, 0.9, 0.8929, 0.8793, 0.8639, 0.8551, 0.8367, 0.8218, 0.8135, 0.7941, 0.7833, 0.7826, 0.7818, 0.7692, 0.7684, 0.7556, 0.7338, 0.7282, 0.7239, 0.7231, 0.7195, 0.716, 0.7125, 0.7105, 0.7092, 0.7088, 0.7036, 0.6946, 0.6458, 0.5629, 0.6646, 0.4534, 0.1292, 0.3231, 0.3164, 0.3072, 0.2391, 0.1853, 0.4125, 0.5808, -0.1641, -0.1921, -0.2007, -0.3942, -0.0022, -0.7329, 1.0067, 0.9539, 0.953, 0.9501, 0.9274, 0.9214, 0.9206, 0.9189, 0.9128, 0.8963, 0.8933, 0.8889, 0.8877, 0.8865, 0.8815, 0.881, 0.8805, 0.8771, 0.8765, 0.8712, 0.8712, 0.861, 0.8587, 0.8541, 0.8538, 0.8503, 0.8501, 0.844, 0.8433, 0.843, 0.8429, 0.7639, 0.8076, 0.6763, 0.6296, 0.7538, 0.6073, 0.6569, 0.5068, 0.6493, 0.5956, 0.7452, 0.5881, 0.4565, 0.3758, 0.3191, -0.4019, 0.2617, -0.1514, -0.27, -0.1994, -0.2425, -0.2597, -0.6367, -1.8276, 1.0391, 1.0165, 1.0139, 1.0107, 1.002, 1.001, 0.9999, 0.9933, 0.9913, 0.9722, 0.9591, 0.9538, 0.9538, 0.9533, 0.9432, 0.9419, 0.9391, 0.9332, 0.914, 0.9047, 0.9001, 0.8959, 0.8885, 0.887, 0.8864, 0.8838, 0.8828, 0.8814, 0.8813, 0.8812, 0.873, 0.8562, 0.8665, 0.8482, 0.8689, 0.5513, 0.8178, 0.7116, 0.8092, 0.5796, 0.6821, 0.5335, 0.2735, 0.5845, 0.0152, 0.4076, 0.7255, -0.1042, -0.6537, 0.1449, 0.1184, -0.1804, 0.4658, -0.2101, -0.8273, -0.224, 0.0092, -0.9211, -0.276, -0.4972, 0.2795]}, \"token.table\": {\"Topic\": [1, 2, 3, 2, 1, 2, 3, 1, 2, 3, 1, 2, 1, 2, 3, 1, 2, 3, 3, 2, 3, 2, 3, 1, 2, 3, 2, 1, 2, 3, 1, 2, 3, 1, 3, 3, 1, 2, 3, 1, 2, 3, 1, 2, 3, 1, 2, 3, 1, 3, 2, 3, 2, 3, 1, 2, 1, 2, 3, 1, 2, 3, 2, 1, 3, 1, 1, 2, 3, 2, 1, 2, 3, 1, 2, 3, 1, 2, 1, 2, 2, 3, 2, 1, 2, 3, 3, 1, 2, 3, 1, 2, 3, 2, 3, 2, 1, 2, 3, 1, 1, 2, 3, 1, 2, 3, 2, 3, 3, 1, 2, 3, 1, 2, 3, 2, 1, 3, 1, 2, 3, 1, 2, 1, 3, 1, 2, 3, 3, 1, 2, 3, 1, 1, 3, 2, 3, 3, 1, 3, 1, 2, 3, 3, 1, 2, 3, 1, 2, 3, 1, 2, 3, 1, 2, 3, 1, 2, 3, 1, 2, 3, 1, 2, 3, 2, 1, 3, 1, 2, 3, 1, 2, 3, 1, 2, 3, 1, 2, 3, 1, 2, 3, 1, 2, 3, 1, 2, 3, 1, 2, 3, 1, 2, 3, 1, 2, 3, 1, 2, 3, 1, 2, 3, 1, 2, 3, 1, 2, 3, 1, 2, 3, 1, 2, 3, 1, 2, 3, 1, 2, 3, 1, 2, 1, 2, 3, 3, 1, 2, 1, 1, 2, 3, 1, 3, 1, 2, 3, 1, 2, 3, 3, 1, 1, 2, 3, 1, 2, 1, 3, 2, 3, 3, 2, 3, 1, 2, 3, 3, 1, 2, 3, 1, 1, 1, 2, 3, 2, 3, 2, 3, 3, 3], \"Freq\": [0.1614827347697352, 0.538275782565784, 0.3229654695394704, 0.9115643022103286, 0.44270756912124576, 0.27243542715153585, 0.27243542715153585, 0.20896610957408282, 0.31344916436112424, 0.522415273935207, 0.849802973042557, 0.7281191972708342, 0.2816214214160892, 0.1408107107080446, 0.5632428428321784, 0.5635551709929452, 0.02561614413604296, 0.40985830617668734, 0.8444982481902662, 0.7295447087051662, 0.7610447827164288, 0.9119590328776844, 0.6337013554536435, 0.9177165780683181, 0.0393307104886422, 0.0393307104886422, 0.9123362729926484, 0.48283126871915205, 0.2599860677718511, 0.2599860677718511, 0.811897492895329, 0.05697526265932133, 0.128194340983473, 0.7675745372229663, 0.2558581790743221, 0.8441963507246286, 0.11565022732243703, 0.057825113661218515, 0.8384641480876684, 0.03363416764694325, 0.8408541911735813, 0.134536670587773, 0.35595197277606244, 0.10170056365030355, 0.5085028182515178, 0.6867716982256288, 0.09811024260366126, 0.19622048520732252, 0.6394634474307623, 0.2131544824769208, 0.8117769845641841, 0.8442079595287783, 0.17970544869745658, 0.7188217947898263, 0.8558452398358691, 0.9691309028631249, 0.4826533458328925, 0.2598902631407883, 0.2598902631407883, 0.44172485049661503, 0.25241420028378, 0.315517750354725, 0.811884104270653, 0.8541398791070393, 0.21353496977675981, 0.8502493171080482, 0.48237119079306395, 0.25973833350395753, 0.22263285728910642, 0.81248153627008, 0.06760579756092036, 0.8112695707310442, 0.13521159512184072, 0.16216692349055287, 0.432445129308141, 0.37838948814462336, 0.6390290440007517, 0.7279787111685562, 0.7397431647930508, 0.21135518994087166, 0.7598550451308207, 0.15197100902616414, 0.9126792124198652, 0.18001300945737186, 0.18001300945737186, 0.7200520378294875, 0.8442263724776489, 0.07597777980494214, 0.8357555778543635, 0.07597777980494214, 0.2373498100464776, 0.0296687262558097, 0.7417181563952425, 0.17990377485111292, 0.7196150994044517, 0.8125509500639873, 0.08286945685692669, 0.4143472842846334, 0.4972167411415601, 0.638737583089273, 0.07891149395713808, 0.1841268192333222, 0.7365072769332888, 0.8545026917134142, 0.08545026917134141, 0.08545026917134141, 0.8125286608574775, 0.9522931756569346, 0.7614346572261256, 0.13664518017153876, 0.6149033107719245, 0.20496777025730817, 0.7473536298806656, 0.10676480426866651, 0.10676480426866651, 0.9128324141290484, 0.19593034178787752, 0.7837213671515101, 0.2998499623788935, 0.6330165872443307, 0.06663332497308745, 0.9281385498809025, 0.07139527306776174, 0.21141112757925054, 0.8456445103170022, 0.09406937779092359, 0.7525550223273887, 0.18813875558184717, 0.8442132743436735, 0.18939001683237955, 0.18939001683237955, 0.6313000561079318, 0.7672156555674439, 0.6388836448495437, 0.6327957980371499, 0.8122582490154658, 0.9509357669971779, 0.7616568443957998, 0.9624728583884056, 0.9510417014280936, 0.6350625987895955, 0.15876564969739887, 0.15876564969739887, 0.8441473800472491, 0.13660321435636613, 0.6147144646036476, 0.2049048215345492, 0.1455558766515689, 0.03638896916289223, 0.8005573215836289, 0.0604548150597635, 0.0604548150597635, 0.8463674108366891, 0.8147978838173517, 0.11639969768819311, 0.11639969768819311, 0.6171630324097366, 0.18151853894404016, 0.18151853894404016, 0.2532691905825906, 0.2532691905825906, 0.7598075717477718, 0.10157153520029259, 0.8125722816023407, 0.10157153520029259, 0.729524771113161, 0.8563157436686459, 0.0856315743668646, 0.7491927624902033, 0.21405507499720094, 0.030579296428171563, 0.8964990427619635, 0.040141748183371496, 0.053522330911162, 0.2839758318805541, 0.6626102743879596, 0.04732930531342568, 0.13595131130278224, 0.6797565565139112, 0.13595131130278224, 0.125609652362591, 0.251219304725182, 0.502438609450364, 0.3116786615414303, 0.43635012615800245, 0.3116786615414303, 0.8700678105783292, 0.04579304266201733, 0.04579304266201733, 0.18026215483874053, 0.5407864645162216, 0.28326910046087794, 0.8276301804679346, 0.041381509023396726, 0.12414452707019018, 0.09021665676686101, 0.7818776919794621, 0.1353249851502915, 0.29222059273465023, 0.6169101402175949, 0.0974068642448834, 0.10409178798128088, 0.832734303850247, 0.06939452532085393, 0.4120421494126387, 0.05655480482134257, 0.5332310168869442, 0.23763855865117134, 0.15842570576744755, 0.6337028230697902, 0.2940034453897917, 0.5880068907795833, 0.11760137815591667, 0.18109094573227605, 0.18109094573227605, 0.7243637829291042, 0.05066747371195159, 0.7904125899064449, 0.1621359158782451, 0.7043577118059556, 0.06403251925508688, 0.19209755776526063, 0.10065082503972134, 0.905857425357492, 0.6861415710882397, 0.1960404488823542, 0.0980202244411771, 0.8462730031743839, 0.8005411149466491, 0.16010822298932983, 0.6387799396875514, 0.14753660116800138, 0.8114513064240076, 0.07376830058400069, 0.9334537794198206, 0.7937460836492435, 0.5115927920799913, 0.08526546534666522, 0.42632732673332613, 0.1360631201476589, 0.6803156007382944, 0.1360631201476589, 0.8441749809776665, 0.8502243713000186, 0.16600588023774998, 0.05533529341258333, 0.7746941077761665, 0.850153849449455, 0.7281477436458232, 0.8504390835817041, 0.8442171029661969, 0.761272155588365, 0.152254431117673, 0.7615752044341029, 0.9107292830661164, 0.8440585246118216, 0.15513164602635243, 0.4653949380790573, 0.3619738407281557, 0.95094570262999, 0.2144659661731045, 0.5897814069760374, 0.16084947462982838, 0.8498492976428502, 0.8507072433575239, 0.20356699206597745, 0.8142679682639098, 0.20356699206597745, 0.9693781967532599, 0.9508656596802203, 0.8120633505992051, 0.9065771508684741, 0.9509029820814533, 0.8442518552367239], \"Term\": [\"action\", \"action\", \"action\", \"activision\", \"ae\", \"ae\", \"ae\", \"agane\", \"agane\", \"agane\", \"ammo\", \"apparently\", \"bahroo\", \"bahroo\", \"bahroo\", \"bai\", \"bai\", \"bai\", \"bankruptcy\", \"bigredpls\", \"blame\", \"box\", \"burn\", \"bye\", \"bye\", \"bye\", \"campfire\", \"cfee\", \"cfee\", \"cfee\", \"clap\", \"clap\", \"clap\", \"come\", \"come\", \"coming\", \"company\", \"company\", \"company\", \"crab\", \"crab\", \"crab\", \"crash\", \"crash\", \"crash\", \"crashes\", \"crashes\", \"crashes\", \"cutscene\", \"cutscene\", \"dash\", \"didnt\", \"dis\", \"dis\", \"dont\", \"doodone\", \"ecbfe\", \"ecbfe\", \"ecbfe\", \"ee\", \"ee\", \"ee\", \"eight\", \"end\", \"end\", \"every\", \"fba\", \"fba\", \"fba\", \"fe\", \"fireduck\", \"fireduck\", \"fireduck\", \"game\", \"game\", \"game\", \"gg\", \"gn\", \"go\", \"go\", \"gone\", \"gone\", \"gonna\", \"good\", \"good\", \"good\", \"hell\", \"hyperclap\", \"hyperclap\", \"hyperclap\", \"indie\", \"indie\", \"indie\", \"indy\", \"indy\", \"last\", \"like\", \"like\", \"like\", \"lmao\", \"lul\", \"lul\", \"lul\", \"lulw\", \"lulw\", \"lulw\", \"maddening\", \"map\", \"mehdibaby\", \"months\", \"months\", \"months\", \"moon\", \"moon\", \"moon\", \"nice\", \"night\", \"night\", \"omegalul\", \"omegalul\", \"omegalul\", \"omegaroll\", \"omegaroll\", \"oof\", \"oof\", \"pepehands\", \"pepehands\", \"pepehands\", \"pls\", \"pog\", \"pog\", \"pog\", \"poggywoggy\", \"point\", \"pphop\", \"rd\", \"renayyikes\", \"rero\", \"resc\", \"resccoffee\", \"rescex\", \"rescex\", \"rescex\", \"rescmini\", \"resubscribing\", \"resubscribing\", \"resubscribing\", \"roo\", \"roo\", \"roo\", \"rooaww\", \"rooaww\", \"rooaww\", \"rooayaya\", \"rooayaya\", \"rooayaya\", \"rooblank\", \"rooblank\", \"rooblank\", \"rooblind\", \"rooblind\", \"rooblind\", \"roobobble\", \"roobobble\", \"roobobble\", \"roobonk\", \"roobooli\", \"roobooli\", \"roocomfy\", \"roocomfy\", \"roocomfy\", \"roocry\", \"roocry\", \"roocry\", \"rood\", \"rood\", \"rood\", \"roodab\", \"roodab\", \"roodab\", \"rooderp\", \"rooderp\", \"rooderp\", \"rooduck\", \"rooduck\", \"rooduck\", \"rooh\", \"rooh\", \"rooh\", \"roohappy\", \"roohappy\", \"roohappy\", \"roohug\", \"roohug\", \"roohug\", \"rookek\", \"rookek\", \"rookek\", \"roolove\", \"roolove\", \"roolove\", \"roonap\", \"roonap\", \"roonap\", \"rooowo\", \"rooowo\", \"rooowo\", \"roopog\", \"roopog\", \"roopog\", \"rooree\", \"rooree\", \"rooree\", \"rooshrug\", \"rooshrug\", \"rooshrug\", \"roosip\", \"roosip\", \"roosip\", \"rooslain\", \"rooslain\", \"rooslain\", \"rooslam\", \"rooslam\", \"roosmug\", \"roosmug\", \"roosmug\", \"roosmush\", \"roospy\", \"roospy\", \"roothink\", \"roovv\", \"roovv\", \"roovv\", \"roow\", \"roowut\", \"rooxd\", \"rooxd\", \"rooxd\", \"sam\", \"sam\", \"sam\", \"scavenger\", \"sky\", \"small\", \"small\", \"small\", \"sorry\", \"spam\", \"speed\", \"start\", \"story\", \"story\", \"subscribing\", \"syndifire\", \"talking\", \"thank\", \"thank\", \"thank\", \"thing\", \"time\", \"time\", \"time\", \"triple\", \"use\", \"vvsellout\", \"vvsellout\", \"vvsellout\", \"wait\", \"well\", \"whats\", \"wow\", \"yeah\", \"zombie\"]}, \"R\": 30, \"lambda.step\": 0.01, \"plot.opts\": {\"xlab\": \"PC1\", \"ylab\": \"PC2\"}, \"topic.order\": [2, 3, 1]};\n",
       "\n",
       "function LDAvis_load_lib(url, callback){\n",
       "  var s = document.createElement('script');\n",
       "  s.src = url;\n",
       "  s.async = true;\n",
       "  s.onreadystatechange = s.onload = callback;\n",
       "  s.onerror = function(){console.warn(\"failed to load library \" + url);};\n",
       "  document.getElementsByTagName(\"head\")[0].appendChild(s);\n",
       "}\n",
       "\n",
       "if(typeof(LDAvis) !== \"undefined\"){\n",
       "   // already loaded: just create the visualization\n",
       "   !function(LDAvis){\n",
       "       new LDAvis(\"#\" + \"ldavis_el1470823463648924326695285849\", ldavis_el1470823463648924326695285849_data);\n",
       "   }(LDAvis);\n",
       "}else if(typeof define === \"function\" && define.amd){\n",
       "   // require.js is available: use it to load d3/LDAvis\n",
       "   require.config({paths: {d3: \"https://d3js.org/d3.v5\"}});\n",
       "   require([\"d3\"], function(d3){\n",
       "      window.d3 = d3;\n",
       "      LDAvis_load_lib(\"https://cdn.jsdelivr.net/gh/bmabey/pyLDAvis@3.3.1/pyLDAvis/js/ldavis.v3.0.0.js\", function(){\n",
       "        new LDAvis(\"#\" + \"ldavis_el1470823463648924326695285849\", ldavis_el1470823463648924326695285849_data);\n",
       "      });\n",
       "    });\n",
       "}else{\n",
       "    // require.js not available: dynamically load d3 & LDAvis\n",
       "    LDAvis_load_lib(\"https://d3js.org/d3.v5.js\", function(){\n",
       "         LDAvis_load_lib(\"https://cdn.jsdelivr.net/gh/bmabey/pyLDAvis@3.3.1/pyLDAvis/js/ldavis.v3.0.0.js\", function(){\n",
       "                 new LDAvis(\"#\" + \"ldavis_el1470823463648924326695285849\", ldavis_el1470823463648924326695285849_data);\n",
       "            })\n",
       "         });\n",
       "}\n",
       "</script>"
      ],
      "text/plain": [
       "PreparedData(topic_coordinates=              x         y  topics  cluster       Freq\n",
       "topic                                                \n",
       "1      0.097993 -0.066266       1        1  36.064676\n",
       "2     -0.120260 -0.035208       2        1  33.020680\n",
       "0      0.022267  0.101474       3        1  30.914644, topic_info=         Term        Freq       Total Category  logprob  loglift\n",
       "34        bye   76.000000   76.000000  Default  30.0000  30.0000\n",
       "260    roosip   98.000000   98.000000  Default  29.0000  29.0000\n",
       "62     roocry   74.000000   74.000000  Default  28.0000  28.0000\n",
       "35     rooowo  123.000000  123.000000  Default  27.0000  27.0000\n",
       "123      clap   70.000000   70.000000  Default  26.0000  26.0000\n",
       "..        ...         ...         ...      ...      ...      ...\n",
       "29     action    5.796425   18.577837   Topic3  -5.2407   0.0092\n",
       "123      clap    8.639715   70.205907   Topic3  -4.8416  -0.9211\n",
       "457       fba    6.322228   26.950200   Topic3  -5.1539  -0.2760\n",
       "4    rooblank    5.179329   27.545396   Topic3  -5.3533  -0.4972\n",
       "229     rooxd    4.794837   11.728078   Topic3  -5.4304   0.2795\n",
       "\n",
       "[196 rows x 6 columns], token_table=      Topic      Freq        Term\n",
       "term                             \n",
       "29        1  0.161483      action\n",
       "29        2  0.538276      action\n",
       "29        3  0.322965      action\n",
       "543       2  0.911564  activision\n",
       "59        1  0.442708          ae\n",
       "...     ...       ...         ...\n",
       "508       3  0.950866        well\n",
       "52        2  0.812063       whats\n",
       "357       3  0.906577         wow\n",
       "350       3  0.950903        yeah\n",
       "145       3  0.844252      zombie\n",
       "\n",
       "[274 rows x 3 columns], R=30, lambda_step=0.01, plot_opts={'xlab': 'PC1', 'ylab': 'PC2'}, topic_order=[2, 3, 1])"
      ]
     },
     "execution_count": 8,
     "metadata": {},
     "output_type": "execute_result"
    }
   ],
   "source": [
    "import pickle\n",
    "import pyLDAvis\n",
    "import pyLDAvis.gensim_models # Had to rename .gensim -> .gensim_models\n",
    "\n",
    "# Visualise the topics\n",
    "pyLDAvis.enable_notebook()\n",
    "pyLDAvis.gensim_models.prepare(lda_model, corpus, id2word)"
   ]
  },
  {
   "cell_type": "code",
   "execution_count": null,
   "metadata": {},
   "outputs": [],
   "source": []
  }
 ],
 "metadata": {
  "kernelspec": {
   "display_name": "Python 3",
   "language": "python",
   "name": "python3"
  },
  "language_info": {
   "codemirror_mode": {
    "name": "ipython",
    "version": 3
   },
   "file_extension": ".py",
   "mimetype": "text/x-python",
   "name": "python",
   "nbconvert_exporter": "python",
   "pygments_lexer": "ipython3",
   "version": "3.8.5"
  }
 },
 "nbformat": 4,
 "nbformat_minor": 4
}
